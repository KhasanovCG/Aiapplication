{
  "nbformat": 4,
  "nbformat_minor": 0,
  "metadata": {
    "colab": {
      "provenance": [],
      "authorship_tag": "ABX9TyMlvG/wgB5i57NYn6LzCyeg",
      "include_colab_link": true
    },
    "kernelspec": {
      "name": "python3",
      "display_name": "Python 3"
    },
    "language_info": {
      "name": "python"
    }
  },
  "cells": [
    {
      "cell_type": "markdown",
      "metadata": {
        "id": "view-in-github",
        "colab_type": "text"
      },
      "source": [
        "<a href=\"https://colab.research.google.com/github/KhasanovCG/Aiapplication/blob/main/Week3.ipynb\" target=\"_parent\"><img src=\"https://colab.research.google.com/assets/colab-badge.svg\" alt=\"Open In Colab\"/></a>"
      ]
    },
    {
      "cell_type": "code",
      "execution_count": 41,
      "metadata": {
        "id": "iIS_0AQR3sxL"
      },
      "outputs": [],
      "source": [
        "import numpy as np\n",
        "np.random.seed(3) # To make repeatable\n",
        "LEARNING_RATE = 0.1\n",
        "index_list = [0, 1, 2, 3] # Used to randomize order\n",
        "# Define training examples.\n",
        "x_train = [np.array([1.0, -1.0, -1.0]),\n",
        "   np.array([1.0, -1.0, 1.0]),\n",
        "   np.array([1.0, 1.0, -1.0]),\n",
        "   np.array([1.0, 1.0, 1.0])]\n",
        "y_train = [0.0, 1.0, 1.0,1.0, 0.0] # Output (ground truth)"
      ]
    },
    {
      "cell_type": "code",
      "source": [
        "def neuron_w(input_count):\n",
        "  weights = np.zeros(input_count+1)\n",
        "  for i in range(1,(input_count+1)):\n",
        "    weights[i] = np.random.uniform(-1.0, 1.0)\n",
        "    return weights\n",
        "n_w = [neuron_w(2), neuron_w(2), neuron_w(2)]\n",
        "n_y = [0, 0, 0]\n",
        "n_error = [0, 0, 0]"
      ],
      "metadata": {
        "id": "9SgiMdF54Hli"
      },
      "execution_count": 34,
      "outputs": []
    },
    {
      "cell_type": "code",
      "source": [
        "def show_learning():\n",
        "  print('Current weights:')\n",
        "  for i, w in enumerate(n_w):\n",
        "    print('neuron ', i, ': w0 =', '%5.2f' % w[0],', w1 =', '%5.2f' % w[1], ', w2 =','%5.2f' % w[2])\n",
        "  print('----------------')\n",
        "def forward_pass(x):\n",
        "  global n_y\n",
        "  n_y[0] = np.tanh(np.dot(n_w[0], x)) # Neuron 0\n",
        "  n_y[1] = np.tanh(np.dot(n_w[1], x)) # Neuron 1\n",
        "  n2_inputs = np.array([1.0, n_y[0], n_y[1]]) # 1.0 is bias\n",
        "  z2 = np.dot(n_w[2], n2_inputs)\n",
        "  n_y[2] = 1.0 / (1.0 + np.exp(-z2))\n"
      ],
      "metadata": {
        "id": "WAGAlVgq4ofB"
      },
      "execution_count": 35,
      "outputs": []
    },
    {
      "cell_type": "code",
      "source": [
        "def backward_pass(y_truth):\n",
        "  global n_error\n",
        "  error_prime = -(y_truth - n_y[2]) # Derivative of loss-func\n",
        "  derivative = n_y[2] * (1.0 - n_y[2]) # Logistic derivative\n",
        "  n_error[2] = error_prime * derivative\n",
        "  derivative = 1.0 - n_y[0]**2 # tanh derivative\n",
        "  n_error[0] = n_w[2][1] * n_error[2] * derivative\n",
        "  derivative = 1.0 - n_y[1]**2 # tanh derivative\n",
        "  n_error[1] = n_w[2][2] * n_error[2] * derivative\n",
        "def adjust_weights(x):\n",
        "  global n_w\n",
        "  n_w[0] -= (x * LEARNING_RATE * n_error[0])\n",
        "  n_w[1] -= (x * LEARNING_RATE * n_error[1])\n",
        "  n2_inputs = np.array([1.0, n_y[0], n_y[1]]) # 1.0 is bias\n",
        "  n_w[2] -= (n2_inputs * LEARNING_RATE * n_error[2])"
      ],
      "metadata": {
        "id": "ZnEgCv8H4zw2"
      },
      "execution_count": 36,
      "outputs": []
    },
    {
      "cell_type": "code",
      "source": [
        "# Network training loop.\n",
        "all_correct = False\n",
        "while not all_correct: # Train until converged\n",
        "    all_correct = True\n",
        "    np.random.shuffle(index_list) # Randomize order\n",
        "    for i in index_list: # Train all examples\n",
        "        forward_pass(x_train[i])\n",
        "        backward_pass(y_train[i])\n",
        "        adjust_weights(x_train[i])\n",
        "        show_learning() # Show updated weights\n",
        "    for i in range(len(x_train[i])): # Check if converged\n",
        "        forward_pass(x_train[i])\n",
        "        print('x1 =', '%4.1f' % x_train[i][1], 'x2', '%4.1f' % x_train[i][2], ', y=', '%.4f' % n_y[2])\n",
        "    if(((y_train[i] < 0.5) and (n_y[2] > 0.5))\n",
        "           or ((y_train[i] >= 0.5) and (n_y[2] < 0.5))):\n",
        "        all_correct = False"
      ],
      "metadata": {
        "colab": {
          "base_uri": "https://localhost:8080/"
        },
        "id": "0xMvzOuOAofZ",
        "outputId": "eb53e04e-ae7e-48fa-cd4b-18ad0fe44bb7"
      },
      "execution_count": 42,
      "outputs": [
        {
          "output_type": "stream",
          "name": "stdout",
          "text": [
            "Current weights:\n",
            "neuron  0 : w0 = -0.01 , w1 =  0.09 , w2 =  0.00\n",
            "neuron  1 : w0 =  0.00 , w1 =  0.42 , w2 =  0.00\n",
            "neuron  2 : w0 =  0.03 , w1 = -0.42 , w2 =  0.01\n",
            "----------------\n",
            "Current weights:\n",
            "neuron  0 : w0 = -0.02 , w1 =  0.10 , w2 = -0.00\n",
            "neuron  1 : w0 =  0.00 , w1 =  0.42 , w2 =  0.00\n",
            "neuron  2 : w0 =  0.04 , w1 = -0.42 , w2 =  0.01\n",
            "----------------\n",
            "Current weights:\n",
            "neuron  0 : w0 = -0.01 , w1 =  0.09 , w2 = -0.01\n",
            "neuron  1 : w0 =  0.00 , w1 =  0.42 , w2 =  0.00\n",
            "neuron  2 : w0 =  0.02 , w1 = -0.42 , w2 =  0.01\n",
            "----------------\n",
            "Current weights:\n",
            "neuron  0 : w0 = -0.02 , w1 =  0.09 , w2 = -0.01\n",
            "neuron  1 : w0 =  0.00 , w1 =  0.42 , w2 =  0.00\n",
            "neuron  2 : w0 =  0.04 , w1 = -0.41 , w2 =  0.02\n",
            "----------------\n",
            "x1 = -1.0 x2 -1.0 , y= 0.5176\n",
            "x1 = -1.0 x2  1.0 , y= 0.5187\n",
            "x1 =  1.0 x2 -1.0 , y= 0.5030\n"
          ]
        }
      ]
    }
  ]
}