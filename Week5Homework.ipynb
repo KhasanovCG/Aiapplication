{
  "nbformat": 4,
  "nbformat_minor": 0,
  "metadata": {
    "colab": {
      "provenance": [],
      "authorship_tag": "ABX9TyOvdLBrIb6eTSobHm3uTkhE",
      "include_colab_link": true
    },
    "kernelspec": {
      "name": "python3",
      "display_name": "Python 3"
    },
    "language_info": {
      "name": "python"
    }
  },
  "cells": [
    {
      "cell_type": "markdown",
      "metadata": {
        "id": "view-in-github",
        "colab_type": "text"
      },
      "source": [
        "<a href=\"https://colab.research.google.com/github/KhasanovCG/Aiapplication/blob/main/Week5Homework.ipynb\" target=\"_parent\"><img src=\"https://colab.research.google.com/assets/colab-badge.svg\" alt=\"Open In Colab\"/></a>"
      ]
    },
    {
      "cell_type": "code",
      "execution_count": 4,
      "metadata": {
        "colab": {
          "base_uri": "https://localhost:8080/"
        },
        "id": "R7zYGXMDmwzh",
        "outputId": "3454f2f2-d89c-4cd0-b8dd-ba9180b0c136"
      },
      "outputs": [
        {
          "output_type": "stream",
          "name": "stdout",
          "text": [
            "Downloading data from https://storage.googleapis.com/tensorflow/tf-keras-datasets/mnist.npz\n",
            "11490434/11490434 [==============================] - 1s 0us/step\n"
          ]
        }
      ],
      "source": [
        "# Import TensorFlow and other libraries\n",
        "import tensorflow as tf\n",
        "import numpy as np\n",
        "import matplotlib.pyplot as plt\n",
        "\n",
        "# Load the MIST dataset\n",
        "mnist = tf.keras.datasets.mnist\n",
        "\n",
        "# Split the dataset into training and test sets\n",
        "(train_images, train_labels), (test_images, test_labels) = mnist.load_data()\n",
        "\n",
        "# Normalize the images\n",
        "train_images = train_images / 255.0\n",
        "test_images = test_images / 255.0"
      ]
    },
    {
      "cell_type": "code",
      "source": [
        "# Function to create and evaluate model with different activation functions\n",
        "def evaluate_activation (activation_function):\n",
        "  model = tf.keras. Sequential ([\n",
        "    tf.keras.layers.Flatten(input_shape=(28, 28)),\n",
        "    tf.keras.layers.Dense(128, activation=activation_function),\n",
        "    tf.keras.layers.Dense(10, activation= 'softmax')\n",
        "  ])\n",
        "  model.compile(optimizer='adam', loss='sparse_categorical_crossentropy', metrics= ['accuracy'])\n",
        "  model.fit(train_images, train_labels, epochs=5)\n",
        "  test_loss, test_acc = model.evaluate(test_images, test_labels)\n",
        "  print(f\"Test accuracy with {activation_function}: {test_acc}\")\n",
        "\n",
        "# Evaluate models with different activation functions\n",
        "for activation in ['sigmoid', 'tanh', 'relu']:\n",
        "  evaluate_activation(activation)"
      ],
      "metadata": {
        "colab": {
          "base_uri": "https://localhost:8080/"
        },
        "id": "mBbia-iIodHH",
        "outputId": "59dc4ebd-669b-4ed3-c36b-0420435615cf"
      },
      "execution_count": 13,
      "outputs": [
        {
          "output_type": "stream",
          "name": "stdout",
          "text": [
            "Epoch 1/5\n",
            "1875/1875 [==============================] - 11s 5ms/step - loss: 0.3961 - accuracy: 0.8975\n",
            "Epoch 2/5\n",
            "1875/1875 [==============================] - 8s 4ms/step - loss: 0.1956 - accuracy: 0.9435\n",
            "Epoch 3/5\n",
            "1875/1875 [==============================] - 8s 4ms/step - loss: 0.1446 - accuracy: 0.9582\n",
            "Epoch 4/5\n",
            "1875/1875 [==============================] - 9s 5ms/step - loss: 0.1121 - accuracy: 0.9678\n",
            "Epoch 5/5\n",
            "1875/1875 [==============================] - 8s 4ms/step - loss: 0.0906 - accuracy: 0.9742\n",
            "313/313 [==============================] - 1s 2ms/step - loss: 0.1014 - accuracy: 0.9696\n",
            "Test accuracy with sigmoid: 0.9696000218391418\n",
            "Epoch 1/5\n",
            "1875/1875 [==============================] - 10s 5ms/step - loss: 0.2861 - accuracy: 0.9173\n",
            "Epoch 2/5\n",
            "1875/1875 [==============================] - 8s 4ms/step - loss: 0.1371 - accuracy: 0.9596\n",
            "Epoch 3/5\n",
            "1875/1875 [==============================] - 9s 5ms/step - loss: 0.0929 - accuracy: 0.9735\n",
            "Epoch 4/5\n",
            "1875/1875 [==============================] - 9s 5ms/step - loss: 0.0684 - accuracy: 0.9801\n",
            "Epoch 5/5\n",
            "1875/1875 [==============================] - 8s 4ms/step - loss: 0.0519 - accuracy: 0.9844\n",
            "313/313 [==============================] - 1s 2ms/step - loss: 0.0846 - accuracy: 0.9737\n",
            "Test accuracy with tanh: 0.9736999869346619\n",
            "Epoch 1/5\n",
            "1875/1875 [==============================] - 10s 5ms/step - loss: 0.2605 - accuracy: 0.9249\n",
            "Epoch 2/5\n",
            "1875/1875 [==============================] - 8s 4ms/step - loss: 0.1179 - accuracy: 0.9653\n",
            "Epoch 3/5\n",
            "1875/1875 [==============================] - 9s 5ms/step - loss: 0.0818 - accuracy: 0.9754\n",
            "Epoch 4/5\n",
            "1875/1875 [==============================] - 9s 5ms/step - loss: 0.0624 - accuracy: 0.9812\n",
            "Epoch 5/5\n",
            "1875/1875 [==============================] - 8s 4ms/step - loss: 0.0479 - accuracy: 0.9859\n",
            "313/313 [==============================] - 1s 2ms/step - loss: 0.0843 - accuracy: 0.9743\n",
            "Test accuracy with relu: 0.9743000268936157\n"
          ]
        }
      ]
    },
    {
      "cell_type": "code",
      "source": [
        "# Evaluate models with different learning rates\n",
        "for lr in [0.001, 0.01, 0.1]:\n",
        "  optimizer = tf.keras.optimizers.Adam(learning_rate=lr)\n",
        "  model = tf.keras.Sequential ([\n",
        "    tf.keras.layers.Flatten (input_shape=(28, 28)),\n",
        "    tf.keras.layers.Dense (128, activation='relu'),\n",
        "    tf.keras.layers.Dense (10, activation= 'softmax')\n",
        "  ])\n",
        "  model.compile(optimizer=optimizer, loss='sparse_categorical_crossentropy', metrics=['accuracy'])\n",
        "  model.fit(train_images, train_labels, epochs=5, batch_size=32)\n",
        "  test_loss, test_acc = model.evaluate(test_images, test_labels)\n",
        "  print(f\"Test accuracy with learning rate {lr}: {test_acc}\")"
      ],
      "metadata": {
        "colab": {
          "base_uri": "https://localhost:8080/"
        },
        "id": "PLIGJdg6y9Rw",
        "outputId": "82fba637-a604-40b1-a42a-ec1a92084cac"
      },
      "execution_count": 17,
      "outputs": [
        {
          "output_type": "stream",
          "name": "stdout",
          "text": [
            "Epoch 1/5\n",
            "1875/1875 [==============================] - 9s 5ms/step - loss: 0.2578 - accuracy: 0.9274\n",
            "Epoch 2/5\n",
            "1875/1875 [==============================] - 9s 5ms/step - loss: 0.1142 - accuracy: 0.9660\n",
            "Epoch 3/5\n",
            "1875/1875 [==============================] - 8s 4ms/step - loss: 0.0780 - accuracy: 0.9765\n",
            "Epoch 4/5\n",
            "1875/1875 [==============================] - 9s 5ms/step - loss: 0.0584 - accuracy: 0.9816\n",
            "Epoch 5/5\n",
            "1875/1875 [==============================] - 9s 5ms/step - loss: 0.0457 - accuracy: 0.9861\n",
            "313/313 [==============================] - 1s 2ms/step - loss: 0.0876 - accuracy: 0.9734\n",
            "Test accuracy with learning rate 0.001: 0.9733999967575073\n",
            "Epoch 1/5\n",
            "1875/1875 [==============================] - 10s 5ms/step - loss: 0.2359 - accuracy: 0.9305\n",
            "Epoch 2/5\n",
            "1875/1875 [==============================] - 9s 5ms/step - loss: 0.1568 - accuracy: 0.9562\n",
            "Epoch 3/5\n",
            "1875/1875 [==============================] - 8s 4ms/step - loss: 0.1388 - accuracy: 0.9615\n",
            "Epoch 4/5\n",
            "1875/1875 [==============================] - 9s 5ms/step - loss: 0.1245 - accuracy: 0.9664\n",
            "Epoch 5/5\n",
            "1875/1875 [==============================] - 9s 5ms/step - loss: 0.1213 - accuracy: 0.9682\n",
            "313/313 [==============================] - 1s 2ms/step - loss: 0.1962 - accuracy: 0.9599\n",
            "Test accuracy with learning rate 0.01: 0.9599000215530396\n",
            "Epoch 1/5\n",
            "1875/1875 [==============================] - 9s 5ms/step - loss: 1.1770 - accuracy: 0.6525\n",
            "Epoch 2/5\n",
            "1875/1875 [==============================] - 8s 4ms/step - loss: 1.4283 - accuracy: 0.5069\n",
            "Epoch 3/5\n",
            "1875/1875 [==============================] - 9s 5ms/step - loss: 1.3611 - accuracy: 0.5379\n",
            "Epoch 4/5\n",
            "1875/1875 [==============================] - 9s 5ms/step - loss: 1.3918 - accuracy: 0.5459\n",
            "Epoch 5/5\n",
            "1875/1875 [==============================] - 8s 4ms/step - loss: 1.3129 - accuracy: 0.5591\n",
            "313/313 [==============================] - 1s 2ms/step - loss: 1.4969 - accuracy: 0.5670\n",
            "Test accuracy with learning rate 0.1: 0.5669999718666077\n"
          ]
        }
      ]
    },
    {
      "cell_type": "code",
      "source": [
        "# Evaluate models with different learning rates\n",
        "for lr in [0.001, 0.01, 0.1]:\n",
        "  optimizer = tf.keras.optimizers.Adam(learning_rate=lr)\n",
        "  model = tf.keras.Sequential ([\n",
        "    tf.keras.layers.Flatten (input_shape=(28, 28)),\n",
        "    tf.keras.layers.Dense (128, activation='relu'),\n",
        "    tf.keras.layers.Dense (10, activation= 'softmax')\n",
        "  ])\n",
        "  model.compile(optimizer=optimizer, loss='sparse_categorical_crossentropy', metrics=['accuracy'])\n",
        "  model.fit(train_images, train_labels, epochs=5, batch_size=64)\n",
        "  test_loss, test_acc = model.evaluate(test_images, test_labels)\n",
        "  print(f\"Test accuracy with learning rate {lr}: {test_acc}\")"
      ],
      "metadata": {
        "colab": {
          "base_uri": "https://localhost:8080/"
        },
        "id": "hNqoDJso06Sj",
        "outputId": "34e14fcf-2dd8-49b4-d576-67f07bf62c8d"
      },
      "execution_count": 18,
      "outputs": [
        {
          "output_type": "stream",
          "name": "stdout",
          "text": [
            "Epoch 1/5\n",
            "938/938 [==============================] - 6s 6ms/step - loss: 0.2993 - accuracy: 0.9170\n",
            "Epoch 2/5\n",
            "938/938 [==============================] - 4s 4ms/step - loss: 0.1375 - accuracy: 0.9603\n",
            "Epoch 3/5\n",
            "938/938 [==============================] - 4s 5ms/step - loss: 0.0958 - accuracy: 0.9721\n",
            "Epoch 4/5\n",
            "938/938 [==============================] - 5s 6ms/step - loss: 0.0724 - accuracy: 0.9786\n",
            "Epoch 5/5\n",
            "938/938 [==============================] - 4s 5ms/step - loss: 0.0578 - accuracy: 0.9830\n",
            "313/313 [==============================] - 1s 2ms/step - loss: 0.0761 - accuracy: 0.9761\n",
            "Test accuracy with learning rate 0.001: 0.9761000275611877\n",
            "Epoch 1/5\n",
            "938/938 [==============================] - 7s 6ms/step - loss: 0.2145 - accuracy: 0.9352\n",
            "Epoch 2/5\n",
            "938/938 [==============================] - 5s 5ms/step - loss: 0.1300 - accuracy: 0.9619\n",
            "Epoch 3/5\n",
            "938/938 [==============================] - 5s 5ms/step - loss: 0.1085 - accuracy: 0.9696\n",
            "Epoch 4/5\n",
            "938/938 [==============================] - 5s 5ms/step - loss: 0.0965 - accuracy: 0.9722\n",
            "Epoch 5/5\n",
            "938/938 [==============================] - 4s 5ms/step - loss: 0.0907 - accuracy: 0.9745\n",
            "313/313 [==============================] - 1s 2ms/step - loss: 0.1835 - accuracy: 0.9560\n",
            "Test accuracy with learning rate 0.01: 0.9559999704360962\n",
            "Epoch 1/5\n",
            "938/938 [==============================] - 6s 6ms/step - loss: 0.9938 - accuracy: 0.7270\n",
            "Epoch 2/5\n",
            "938/938 [==============================] - 5s 5ms/step - loss: 0.8705 - accuracy: 0.7452\n",
            "Epoch 3/5\n",
            "938/938 [==============================] - 5s 6ms/step - loss: 0.9899 - accuracy: 0.6981\n",
            "Epoch 4/5\n",
            "938/938 [==============================] - 5s 5ms/step - loss: 0.9372 - accuracy: 0.7182\n",
            "Epoch 5/5\n",
            "938/938 [==============================] - 5s 5ms/step - loss: 1.0022 - accuracy: 0.7017\n",
            "313/313 [==============================] - 1s 2ms/step - loss: 1.1016 - accuracy: 0.6386\n",
            "Test accuracy with learning rate 0.1: 0.6385999917984009\n"
          ]
        }
      ]
    },
    {
      "cell_type": "code",
      "source": [
        "# Evaluate models with different learning rates\n",
        "for lr in [0.001, 0.01, 0.1]:\n",
        "  optimizer = tf.keras.optimizers.Adam(learning_rate=lr)\n",
        "  model = tf.keras.Sequential ([\n",
        "    tf.keras.layers.Flatten (input_shape=(28, 28)),\n",
        "    tf.keras.layers.Dense (128, activation='relu'),\n",
        "    tf.keras.layers.Dense (10, activation= 'softmax')\n",
        "  ])\n",
        "  model.compile(optimizer=optimizer, loss='sparse_categorical_crossentropy', metrics=['accuracy'])\n",
        "  model.fit(train_images, train_labels, epochs=5, batch_size=128)\n",
        "  test_loss, test_acc = model.evaluate(test_images, test_labels)\n",
        "  print(f\"Test accuracy with learning rate {lr}: {test_acc}\")"
      ],
      "metadata": {
        "colab": {
          "base_uri": "https://localhost:8080/"
        },
        "id": "SxeTY7ZM1bDY",
        "outputId": "0f2bc0f9-f959-4ffc-9a9a-a32528a34fa6"
      },
      "execution_count": 19,
      "outputs": [
        {
          "output_type": "stream",
          "name": "stdout",
          "text": [
            "Epoch 1/5\n",
            "469/469 [==============================] - 3s 5ms/step - loss: 0.3541 - accuracy: 0.9033\n",
            "Epoch 2/5\n",
            "469/469 [==============================] - 3s 7ms/step - loss: 0.1612 - accuracy: 0.9538\n",
            "Epoch 3/5\n",
            "469/469 [==============================] - 3s 6ms/step - loss: 0.1155 - accuracy: 0.9668\n",
            "Epoch 4/5\n",
            "469/469 [==============================] - 2s 5ms/step - loss: 0.0889 - accuracy: 0.9743\n",
            "Epoch 5/5\n",
            "469/469 [==============================] - 3s 5ms/step - loss: 0.0721 - accuracy: 0.9789\n",
            "313/313 [==============================] - 1s 3ms/step - loss: 0.0904 - accuracy: 0.9738\n",
            "Test accuracy with learning rate 0.001: 0.973800003528595\n",
            "Epoch 1/5\n",
            "469/469 [==============================] - 3s 5ms/step - loss: 0.2169 - accuracy: 0.9349\n",
            "Epoch 2/5\n",
            "469/469 [==============================] - 3s 5ms/step - loss: 0.1064 - accuracy: 0.9673\n",
            "Epoch 3/5\n",
            "469/469 [==============================] - 4s 8ms/step - loss: 0.0832 - accuracy: 0.9738\n",
            "Epoch 4/5\n",
            "469/469 [==============================] - 3s 5ms/step - loss: 0.0788 - accuracy: 0.9762\n",
            "Epoch 5/5\n",
            "469/469 [==============================] - 2s 5ms/step - loss: 0.0677 - accuracy: 0.9797\n",
            "313/313 [==============================] - 1s 2ms/step - loss: 0.1158 - accuracy: 0.9727\n",
            "Test accuracy with learning rate 0.01: 0.9726999998092651\n",
            "Epoch 1/5\n",
            "469/469 [==============================] - 3s 6ms/step - loss: 0.7501 - accuracy: 0.8190\n",
            "Epoch 2/5\n",
            "469/469 [==============================] - 3s 7ms/step - loss: 0.5539 - accuracy: 0.8600\n",
            "Epoch 3/5\n",
            "469/469 [==============================] - 2s 5ms/step - loss: 0.5475 - accuracy: 0.8668\n",
            "Epoch 4/5\n",
            "469/469 [==============================] - 2s 5ms/step - loss: 0.5729 - accuracy: 0.8585\n",
            "Epoch 5/5\n",
            "469/469 [==============================] - 2s 5ms/step - loss: 0.5480 - accuracy: 0.8641\n",
            "313/313 [==============================] - 1s 2ms/step - loss: 0.6421 - accuracy: 0.8704\n",
            "Test accuracy with learning rate 0.1: 0.8704000115394592\n"
          ]
        }
      ]
    },
    {
      "cell_type": "markdown",
      "source": [],
      "metadata": {
        "id": "xirXRV1FppdH"
      }
    }
  ]
}